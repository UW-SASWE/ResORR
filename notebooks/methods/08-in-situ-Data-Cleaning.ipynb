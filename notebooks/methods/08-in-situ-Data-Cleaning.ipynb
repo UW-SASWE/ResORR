{
 "cells": [
  {
   "cell_type": "code",
   "execution_count": 3,
   "metadata": {},
   "outputs": [],
   "source": [
    "import pandas as pd\n",
    "import numpy as np\n",
    "from pathlib import Path"
   ]
  },
  {
   "cell_type": "code",
   "execution_count": 4,
   "metadata": {},
   "outputs": [],
   "source": [
    "save_dir = Path(\"../../data-cumberland/insitu\")\n",
    "save_dir.mkdir(exist_ok=True)"
   ]
  },
  {
   "attachments": {},
   "cell_type": "markdown",
   "metadata": {},
   "source": [
    "# ResOpsUS\n",
    "Save it with name of reservoir and consistent column names."
   ]
  },
  {
   "cell_type": "code",
   "execution_count": 12,
   "metadata": {},
   "outputs": [
    {
     "name": "stdout",
     "output_type": "stream",
     "text": [
      "Barkley_Dam 1752\n",
      "Laurel_Dam 1754\n",
      "Wolf_Creek 1756\n",
      "Dale_Hollow_Dam 1762\n",
      "Old_Hickory_Dam 1768\n",
      "J._Percy_Priest_Dam 1775\n",
      "Center_Hill_Dam 1777\n",
      "Great_Falls 1787\n",
      "Cordell_Hull_Dam 7318\n"
     ]
    }
   ],
   "source": [
    "data_directory = Path(\"../../global_data/ResOpsUS/time_series_all\")\n",
    "reservoir_attributes_fn = Path(\"../../global_data/ResOpsUS/attributes/reservoir_attributes.csv\")\n",
    "reservoirs_fn = Path(\"../../data-cumberland/cumberland-stations/cumberland-resops-stations.csv\")\n",
    "\n",
    "resops_attributes = pd.read_csv(reservoir_attributes_fn)\n",
    "resops_attributes['DAM_NAME'] = resops_attributes['DAM_NAME'].str.replace(' ', '_')\n",
    "\n",
    "reservoirs = pd.read_csv(reservoirs_fn)\n",
    "\n",
    "for reservoir in reservoirs['name']:\n",
    "    reservoir_id = int(resops_attributes[resops_attributes['DAM_NAME']==reservoir]['DAM_ID'])\n",
    "    print(reservoir, reservoir_id)\n",
    "\n",
    "    fn = data_directory / f\"ResOpsUS_{reservoir_id}.csv\"\n",
    "\n",
    "    df = pd.read_csv(fn, parse_dates=['date'])\n",
    "\n",
    "    save_fn = save_dir / f\"{reservoir}.csv\"\n",
    "    df.to_csv(save_fn, index=False)"
   ]
  },
  {
   "attachments": {},
   "cell_type": "markdown",
   "metadata": {},
   "source": [
    "# USGS"
   ]
  },
  {
   "attachments": {},
   "cell_type": "markdown",
   "metadata": {},
   "source": [
    "The naming convention of USGS gages in RAT can be tricky because the name gets truncated to 5 characters. There may be multiple "
   ]
  },
  {
   "cell_type": "code",
   "execution_count": 13,
   "metadata": {},
   "outputs": [],
   "source": [
    "data_directory = Path(\"../../data-cumberland/usgs_insitu/\")\n",
    "gage_attributes_fn = Path(\"../../data-cumberland/usgs_gage_locations/usgs_gages_with_assigned_names.csv\")\n",
    "\n",
    "gage_attributes = pd.read_csv(gage_attributes_fn, dtype={'site_no': str})[['site_no', 'assigned_name']]\n",
    "\n",
    "for i, row in gage_attributes.iterrows():\n",
    "    fn = data_directory / f\"{row.site_no}.csv\"\n",
    "    if fn.exists():\n",
    "        save_fn = save_dir / f\"{row.assigned_name}.csv\"\n",
    "\n",
    "        df = pd.read_csv(fn, parse_dates=['datetime']).rename({\n",
    "                'datetime': 'date',\n",
    "                '00060_Mean': 'inflow'\n",
    "            }, axis=1)[['date', 'inflow']]\n",
    "        df['date'] = df.date.dt.date\n",
    "        df.loc[df['inflow'] < 0, 'inflo'] = np.nan\n",
    "        df.tail()\n",
    "\n",
    "        df.to_csv(save_fn, index=False)"
   ]
  }
 ],
 "metadata": {
  "kernelspec": {
   "display_name": "Python 3",
   "language": "python",
   "name": "python3"
  },
  "language_info": {
   "codemirror_mode": {
    "name": "ipython",
    "version": 3
   },
   "file_extension": ".py",
   "mimetype": "text/x-python",
   "name": "python",
   "nbconvert_exporter": "python",
   "pygments_lexer": "ipython3",
   "version": "3.10.9"
  },
  "orig_nbformat": 4,
  "vscode": {
   "interpreter": {
    "hash": "4b8c3a16aaf85adb3ca8a1f18e5810b57687b3d06c4b994ba211aab8278e804c"
   }
  }
 },
 "nbformat": 4,
 "nbformat_minor": 2
}
