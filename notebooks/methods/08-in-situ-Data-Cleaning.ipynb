{
 "cells": [
  {
   "attachments": {},
   "cell_type": "markdown",
   "metadata": {},
   "source": [
    "# ResOpsUS\n",
    "Save it with name of reservoir and consistent column names."
   ]
  },
  {
   "cell_type": "code",
   "execution_count": 10,
   "metadata": {},
   "outputs": [],
   "source": [
    "import pandas as pd\n",
    "from pathlib import Path"
   ]
  },
  {
   "cell_type": "code",
   "execution_count": 11,
   "metadata": {},
   "outputs": [],
   "source": [
    "data_directory = Path(\"../../data/ResOpsUS/\")\n",
    "save_dir = Path(\"../../data/insitu\")\n",
    "save_dir.mkdir(exist_ok=True)\n",
    "reservoir_attributes_fn = Path(\"../../data/ResOpsUS/reservoir_attributes.csv\")\n",
    "\n",
    "resops_attributes = pd.read_csv(reservoir_attributes_fn)\n",
    "resops_attributes['DAM_NAME'] = resops_attributes['DAM_NAME'].str.replace(' ', '_')\n",
    "\n",
    "reservoirs = ['Blue_Mesa', 'Morrow_Point', 'Silver_Jack', 'Taylor_Park']\n",
    "for reservoir in reservoirs:\n",
    "    reservoir_id = int(resops_attributes[resops_attributes['DAM_NAME']==reservoir]['DAM_ID'])\n",
    "\n",
    "    fn = data_directory / f\"ResOpsUS_{reservoir_id}.csv\"\n",
    "\n",
    "    df = pd.read_csv(fn, parse_dates=['date'])\n",
    "\n",
    "    save_fn = save_dir / f\"{reservoir}.csv\"\n",
    "    subset.to_csv(save_fn, index=False)"
   ]
  }
 ],
 "metadata": {
  "kernelspec": {
   "display_name": "Python 3",
   "language": "python",
   "name": "python3"
  },
  "language_info": {
   "codemirror_mode": {
    "name": "ipython",
    "version": 3
   },
   "file_extension": ".py",
   "mimetype": "text/x-python",
   "name": "python",
   "nbconvert_exporter": "python",
   "pygments_lexer": "ipython3",
   "version": "3.10.9"
  },
  "orig_nbformat": 4,
  "vscode": {
   "interpreter": {
    "hash": "4b8c3a16aaf85adb3ca8a1f18e5810b57687b3d06c4b994ba211aab8278e804c"
   }
  }
 },
 "nbformat": 4,
 "nbformat_minor": 2
}
