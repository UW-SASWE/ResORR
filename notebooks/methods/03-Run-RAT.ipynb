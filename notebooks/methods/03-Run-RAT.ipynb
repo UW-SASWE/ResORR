{
 "cells": [
  {
   "cell_type": "markdown",
   "id": "6db221bf-6083-4cd0-b6dc-459443104463",
   "metadata": {},
   "source": [
    "# Read in configuration file"
   ]
  },
  {
   "cell_type": "code",
   "execution_count": 1,
   "id": "48637b3e-1fe3-4221-8a0a-aff7d7aca1e5",
   "metadata": {},
   "outputs": [],
   "source": [
    "from pprint import pprint\n",
    "import sys\n",
    "from pathlib import Path\n",
    "from ruamel.yaml import YAML"
   ]
  },
  {
   "cell_type": "code",
   "execution_count": 2,
   "id": "3f5b16b0-da4d-4ce3-919d-1c50150de30c",
   "metadata": {},
   "outputs": [],
   "source": [
    "fn = Path('../params/rat_config.yaml')\n",
    "\n",
    "yaml = YAML(typ='rt')\n",
    "data = yaml.load(fn)"
   ]
  },
  {
   "cell_type": "code",
   "execution_count": 3,
   "id": "328ee70b-5788-4328-ad64-9314805a2c21",
   "metadata": {},
   "outputs": [],
   "source": [
    "with open('temp.yaml', \"w\") as f:\n",
    "    yaml.dump(data, f)"
   ]
  },
  {
   "cell_type": "code",
   "execution_count": null,
   "id": "ee0cdf97-dd4f-44bb-8450-54367264ba3c",
   "metadata": {},
   "outputs": [],
   "source": [
    "Path('temp.yaml')"
   ]
  },
  {
   "cell_type": "code",
   "execution_count": null,
   "id": "3f524a23-d27a-478e-8b6f-5d14dd2206e0",
   "metadata": {},
   "outputs": [],
   "source": []
  },
  {
   "cell_type": "markdown",
   "id": "b5c32937-3a0a-4772-bd96-1237c5fe899e",
   "metadata": {},
   "source": [
    "# Run RAT using configuration"
   ]
  },
  {
   "cell_type": "code",
   "execution_count": 11,
   "id": "59def041-eb9c-4912-9fff-24b2bb277f8e",
   "metadata": {},
   "outputs": [],
   "source": [
    "from rat.run_rat import run_rat"
   ]
  },
  {
   "cell_type": "code",
   "execution_count": 10,
   "id": "5e5abf84-d8f1-4d83-a24c-d3203fb6e4ed",
   "metadata": {},
   "outputs": [],
   "source": [
    "run_rat(fn)"
   ]
  },
  {
   "cell_type": "code",
   "execution_count": null,
   "id": "ab6eb910-24c2-40b1-b604-04ab79cfd44e",
   "metadata": {},
   "outputs": [],
   "source": []
  }
 ],
 "metadata": {
  "kernelspec": {
   "display_name": "Python 3 (ipykernel)",
   "language": "python",
   "name": "python3"
  },
  "language_info": {
   "codemirror_mode": {
    "name": "ipython",
    "version": 3
   },
   "file_extension": ".py",
   "mimetype": "text/x-python",
   "name": "python",
   "nbconvert_exporter": "python",
   "pygments_lexer": "ipython3",
   "version": "3.9.16"
  },
  "vscode": {
   "interpreter": {
    "hash": "16808cc64ed4f9ec8ff9c489d3e428808d1b7645ba1705e6ce030031806cb338"
   }
  }
 },
 "nbformat": 4,
 "nbformat_minor": 5
}
