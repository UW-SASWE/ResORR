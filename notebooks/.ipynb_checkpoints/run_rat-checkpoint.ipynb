{
 "cells": [
  {
   "cell_type": "code",
   "execution_count": 1,
   "metadata": {},
   "outputs": [],
   "source": [
    "%load_ext autoreload\n",
    "%autoreload 2\n",
    "from rat import run_rat"
   ]
  },
  {
   "cell_type": "code",
   "execution_count": 2,
   "metadata": {},
   "outputs": [
    {
     "ename": "EEException",
     "evalue": "Earth Engine client library not initialized. Run `ee.Initialize()`",
     "output_type": "error",
     "traceback": [
      "\u001b[0;31m---------------------------------------------------------------------------\u001b[0m",
      "\u001b[0;31mEEException\u001b[0m                               Traceback (most recent call last)",
      "Cell \u001b[0;32mIn[2], line 2\u001b[0m\n\u001b[1;32m      1\u001b[0m config_path \u001b[39m=\u001b[39m \u001b[39m'\u001b[39m\u001b[39m../params/rat_config.yml\u001b[39m\u001b[39m'\u001b[39m\n\u001b[0;32m----> 2\u001b[0m run_rat\u001b[39m.\u001b[39;49mrun_rat(config_path)\n",
      "File \u001b[0;32m~/2023_01_24-river-regulation/models/RAT/src/rat/run_rat.py:44\u001b[0m, in \u001b[0;36mrun_rat\u001b[0;34m(config_fn)\u001b[0m\n\u001b[1;32m     41\u001b[0m \u001b[39mexcept\u001b[39;00m:\n\u001b[1;32m     42\u001b[0m     log\u001b[39m.\u001b[39minfo(\u001b[39m\"\u001b[39m\u001b[39mFailed to connect to Earth engine. Wrong credentials. If you want to use Surface Area Estimations from RAT, please update the EE credentials.\u001b[39m\u001b[39m\"\u001b[39m)\n\u001b[0;32m---> 44\u001b[0m \u001b[39mfrom\u001b[39;00m \u001b[39mrat\u001b[39;00m\u001b[39m.\u001b[39;00m\u001b[39mrat_basin\u001b[39;00m \u001b[39mimport\u001b[39;00m rat\n\u001b[1;32m     46\u001b[0m \u001b[39mif\u001b[39;00m(\u001b[39mnot\u001b[39;00m config[\u001b[39m'\u001b[39m\u001b[39mGLOBAL\u001b[39m\u001b[39m'\u001b[39m][\u001b[39m'\u001b[39m\u001b[39mmultiple_basin_run\u001b[39m\u001b[39m'\u001b[39m]):\n\u001b[1;32m     47\u001b[0m     log\u001b[39m.\u001b[39minfo(\u001b[39m'\u001b[39m\u001b[39m############## Starting RAT for \u001b[39m\u001b[39m'\u001b[39m\u001b[39m+\u001b[39mconfig[\u001b[39m'\u001b[39m\u001b[39mBASIN\u001b[39m\u001b[39m'\u001b[39m][\u001b[39m'\u001b[39m\u001b[39mbasin_name\u001b[39m\u001b[39m'\u001b[39m]\u001b[39m+\u001b[39m\u001b[39m'\u001b[39m\u001b[39m #################\u001b[39m\u001b[39m'\u001b[39m)\n",
      "File \u001b[0;32m~/2023_01_24-river-regulation/models/RAT/src/rat/rat_basin.py:27\u001b[0m\n\u001b[1;32m     24\u001b[0m \u001b[39mfrom\u001b[39;00m \u001b[39mrat\u001b[39;00m\u001b[39m.\u001b[39;00m\u001b[39mutils\u001b[39;00m\u001b[39m.\u001b[39;00m\u001b[39mroute_param_reader\u001b[39;00m \u001b[39mimport\u001b[39;00m RouteParameterFile\n\u001b[1;32m     25\u001b[0m \u001b[39mfrom\u001b[39;00m \u001b[39mrat\u001b[39;00m\u001b[39m.\u001b[39;00m\u001b[39mcore\u001b[39;00m\u001b[39m.\u001b[39;00m\u001b[39mrun_routing\u001b[39;00m \u001b[39mimport\u001b[39;00m RoutingRunner\n\u001b[0;32m---> 27\u001b[0m \u001b[39mfrom\u001b[39;00m \u001b[39mrat\u001b[39;00m\u001b[39m.\u001b[39;00m\u001b[39mcore\u001b[39;00m\u001b[39m.\u001b[39;00m\u001b[39mrun_sarea\u001b[39;00m \u001b[39mimport\u001b[39;00m run_sarea\n\u001b[1;32m     28\u001b[0m \u001b[39mfrom\u001b[39;00m \u001b[39mrat\u001b[39;00m\u001b[39m.\u001b[39;00m\u001b[39mcore\u001b[39;00m\u001b[39m.\u001b[39;00m\u001b[39mrun_altimetry\u001b[39;00m \u001b[39mimport\u001b[39;00m run_altimetry\n\u001b[1;32m     30\u001b[0m \u001b[39mfrom\u001b[39;00m \u001b[39mrat\u001b[39;00m\u001b[39m.\u001b[39;00m\u001b[39mee_utils\u001b[39;00m\u001b[39m.\u001b[39;00m\u001b[39mee_aec_file_creator\u001b[39;00m \u001b[39mimport\u001b[39;00m aec_file_creator\n",
      "File \u001b[0;32m~/2023_01_24-river-regulation/models/RAT/src/rat/core/run_sarea.py:7\u001b[0m\n\u001b[1;32m      4\u001b[0m \u001b[39mfrom\u001b[39;00m \u001b[39mlogging\u001b[39;00m \u001b[39mimport\u001b[39;00m getLogger\n\u001b[1;32m      5\u001b[0m \u001b[39mfrom\u001b[39;00m \u001b[39mrat\u001b[39;00m\u001b[39m.\u001b[39;00m\u001b[39mutils\u001b[39;00m\u001b[39m.\u001b[39;00m\u001b[39mlogging\u001b[39;00m \u001b[39mimport\u001b[39;00m LOG_NAME, NOTIFICATION\n\u001b[0;32m----> 7\u001b[0m \u001b[39mfrom\u001b[39;00m \u001b[39mrat\u001b[39;00m\u001b[39m.\u001b[39;00m\u001b[39mcore\u001b[39;00m\u001b[39m.\u001b[39;00m\u001b[39msarea\u001b[39;00m\u001b[39m.\u001b[39;00m\u001b[39msarea_cli_s2\u001b[39;00m \u001b[39mimport\u001b[39;00m sarea_s2\n\u001b[1;32m      8\u001b[0m \u001b[39mfrom\u001b[39;00m \u001b[39mrat\u001b[39;00m\u001b[39m.\u001b[39;00m\u001b[39mcore\u001b[39;00m\u001b[39m.\u001b[39;00m\u001b[39msarea\u001b[39;00m\u001b[39m.\u001b[39;00m\u001b[39msarea_cli_l8\u001b[39;00m \u001b[39mimport\u001b[39;00m sarea_l8\n\u001b[1;32m      9\u001b[0m \u001b[39mfrom\u001b[39;00m \u001b[39mrat\u001b[39;00m\u001b[39m.\u001b[39;00m\u001b[39mcore\u001b[39;00m\u001b[39m.\u001b[39;00m\u001b[39msarea\u001b[39;00m\u001b[39m.\u001b[39;00m\u001b[39msarea_cli_sar\u001b[39;00m \u001b[39mimport\u001b[39;00m sarea_s1\n",
      "File \u001b[0;32m~/2023_01_24-river-regulation/models/RAT/src/rat/core/sarea/sarea_cli_s2.py:35\u001b[0m\n\u001b[1;32m     32\u001b[0m         \u001b[39mraise\u001b[39;00m \u001b[39mValueError\u001b[39;00m(\u001b[39m'\u001b[39m\u001b[39mExpected fill, strict, or ignore\u001b[39m\u001b[39m'\u001b[39m)\n\u001b[1;32m     34\u001b[0m \u001b[39m# NEW STUFF\u001b[39;00m\n\u001b[0;32m---> 35\u001b[0m s2 \u001b[39m=\u001b[39m ee\u001b[39m.\u001b[39;49mImageCollection(\u001b[39m\"\u001b[39;49m\u001b[39mCOPERNICUS/S2_SR\u001b[39;49m\u001b[39m\"\u001b[39;49m)\n\u001b[1;32m     36\u001b[0m gswd \u001b[39m=\u001b[39m ee\u001b[39m.\u001b[39mImage(\u001b[39m\"\u001b[39m\u001b[39mJRC/GSW1_3/GlobalSurfaceWater\u001b[39m\u001b[39m\"\u001b[39m)\n\u001b[1;32m     37\u001b[0m rgb_vis_params \u001b[39m=\u001b[39m {\u001b[39m\"\u001b[39m\u001b[39mbands\u001b[39m\u001b[39m\"\u001b[39m:[\u001b[39m\"\u001b[39m\u001b[39mB4\u001b[39m\u001b[39m\"\u001b[39m,\u001b[39m\"\u001b[39m\u001b[39mB3\u001b[39m\u001b[39m\"\u001b[39m,\u001b[39m\"\u001b[39m\u001b[39mB2\u001b[39m\u001b[39m\"\u001b[39m],\u001b[39m\"\u001b[39m\u001b[39mmin\u001b[39m\u001b[39m\"\u001b[39m:\u001b[39m0\u001b[39m,\u001b[39m\"\u001b[39m\u001b[39mmax\u001b[39m\u001b[39m\"\u001b[39m:\u001b[39m0.4\u001b[39m}\n",
      "File \u001b[0;32m~/2023_01_24-river-regulation/.condaenv/lib/python3.9/site-packages/ee/computedobject.py:32\u001b[0m, in \u001b[0;36mComputedObjectMetaclass.__call__\u001b[0;34m(cls, *args, **kwargs)\u001b[0m\n\u001b[1;32m     30\u001b[0m   \u001b[39mreturn\u001b[39;00m args[\u001b[39m0\u001b[39m]\n\u001b[1;32m     31\u001b[0m \u001b[39melse\u001b[39;00m:\n\u001b[0;32m---> 32\u001b[0m   \u001b[39mreturn\u001b[39;00m \u001b[39mtype\u001b[39;49m\u001b[39m.\u001b[39;49m\u001b[39m__call__\u001b[39;49m(\u001b[39mcls\u001b[39;49m, \u001b[39m*\u001b[39;49margs, \u001b[39m*\u001b[39;49m\u001b[39m*\u001b[39;49mkwargs)\n",
      "File \u001b[0;32m~/2023_01_24-river-regulation/.condaenv/lib/python3.9/site-packages/ee/imagecollection.py:41\u001b[0m, in \u001b[0;36mImageCollection.__init__\u001b[0;34m(self, args)\u001b[0m\n\u001b[1;32m     27\u001b[0m \u001b[39mdef\u001b[39;00m \u001b[39m__init__\u001b[39m(\u001b[39mself\u001b[39m, args):\n\u001b[1;32m     28\u001b[0m \u001b[39m  \u001b[39m\u001b[39m\"\"\"ImageCollection constructor.\u001b[39;00m\n\u001b[1;32m     29\u001b[0m \n\u001b[1;32m     30\u001b[0m \u001b[39m  Args:\u001b[39;00m\n\u001b[0;32m   (...)\u001b[0m\n\u001b[1;32m     39\u001b[0m \u001b[39m    EEException: if passed something other than the above.\u001b[39;00m\n\u001b[1;32m     40\u001b[0m \u001b[39m  \"\"\"\u001b[39;00m\n\u001b[0;32m---> 41\u001b[0m   \u001b[39mself\u001b[39;49m\u001b[39m.\u001b[39;49minitialize()\n\u001b[1;32m     43\u001b[0m   \u001b[39m# Wrap single images in an array.\u001b[39;00m\n\u001b[1;32m     44\u001b[0m   \u001b[39mif\u001b[39;00m \u001b[39misinstance\u001b[39m(args, image\u001b[39m.\u001b[39mImage):\n",
      "File \u001b[0;32m~/2023_01_24-river-regulation/.condaenv/lib/python3.9/site-packages/ee/imagecollection.py:75\u001b[0m, in \u001b[0;36mImageCollection.initialize\u001b[0;34m(cls)\u001b[0m\n\u001b[1;32m     73\u001b[0m \u001b[39m\u001b[39m\u001b[39m\"\"\"Imports API functions to this class.\"\"\"\u001b[39;00m\n\u001b[1;32m     74\u001b[0m \u001b[39mif\u001b[39;00m \u001b[39mnot\u001b[39;00m \u001b[39mcls\u001b[39m\u001b[39m.\u001b[39m_initialized:\n\u001b[0;32m---> 75\u001b[0m   \u001b[39msuper\u001b[39;49m(ImageCollection, \u001b[39mcls\u001b[39;49m)\u001b[39m.\u001b[39;49minitialize()\n\u001b[1;32m     76\u001b[0m   apifunction\u001b[39m.\u001b[39mApiFunction\u001b[39m.\u001b[39mimportApi(\n\u001b[1;32m     77\u001b[0m       \u001b[39mcls\u001b[39m, \u001b[39m'\u001b[39m\u001b[39mImageCollection\u001b[39m\u001b[39m'\u001b[39m, \u001b[39m'\u001b[39m\u001b[39mImageCollection\u001b[39m\u001b[39m'\u001b[39m)\n\u001b[1;32m     78\u001b[0m   apifunction\u001b[39m.\u001b[39mApiFunction\u001b[39m.\u001b[39mimportApi(\n\u001b[1;32m     79\u001b[0m       \u001b[39mcls\u001b[39m, \u001b[39m'\u001b[39m\u001b[39mreduce\u001b[39m\u001b[39m'\u001b[39m, \u001b[39m'\u001b[39m\u001b[39mImageCollection\u001b[39m\u001b[39m'\u001b[39m)\n",
      "File \u001b[0;32m~/2023_01_24-river-regulation/.condaenv/lib/python3.9/site-packages/ee/collection.py:32\u001b[0m, in \u001b[0;36mCollection.initialize\u001b[0;34m(cls)\u001b[0m\n\u001b[1;32m     30\u001b[0m \u001b[39m\u001b[39m\u001b[39m\"\"\"Imports API functions to this class.\"\"\"\u001b[39;00m\n\u001b[1;32m     31\u001b[0m \u001b[39mif\u001b[39;00m \u001b[39mnot\u001b[39;00m \u001b[39mcls\u001b[39m\u001b[39m.\u001b[39m_initialized:\n\u001b[0;32m---> 32\u001b[0m   apifunction\u001b[39m.\u001b[39;49mApiFunction\u001b[39m.\u001b[39;49mimportApi(\u001b[39mcls\u001b[39;49m, \u001b[39m'\u001b[39;49m\u001b[39mCollection\u001b[39;49m\u001b[39m'\u001b[39;49m, \u001b[39m'\u001b[39;49m\u001b[39mCollection\u001b[39;49m\u001b[39m'\u001b[39;49m)\n\u001b[1;32m     33\u001b[0m   apifunction\u001b[39m.\u001b[39mApiFunction\u001b[39m.\u001b[39mimportApi(\n\u001b[1;32m     34\u001b[0m       \u001b[39mcls\u001b[39m, \u001b[39m'\u001b[39m\u001b[39mAggregateFeatureCollection\u001b[39m\u001b[39m'\u001b[39m, \u001b[39m'\u001b[39m\u001b[39mCollection\u001b[39m\u001b[39m'\u001b[39m, \u001b[39m'\u001b[39m\u001b[39maggregate_\u001b[39m\u001b[39m'\u001b[39m)\n\u001b[1;32m     35\u001b[0m   \u001b[39mcls\u001b[39m\u001b[39m.\u001b[39m_initialized \u001b[39m=\u001b[39m \u001b[39mTrue\u001b[39;00m\n",
      "File \u001b[0;32m~/2023_01_24-river-regulation/.condaenv/lib/python3.9/site-packages/ee/apifunction.py:183\u001b[0m, in \u001b[0;36mApiFunction.importApi\u001b[0;34m(cls, target, prefix, type_name, opt_prepend)\u001b[0m\n\u001b[1;32m    170\u001b[0m \u001b[39m@classmethod\u001b[39m\n\u001b[1;32m    171\u001b[0m \u001b[39mdef\u001b[39;00m \u001b[39mimportApi\u001b[39m(\u001b[39mcls\u001b[39m, target, prefix, type_name, opt_prepend\u001b[39m=\u001b[39m\u001b[39mNone\u001b[39;00m):\n\u001b[1;32m    172\u001b[0m \u001b[39m  \u001b[39m\u001b[39m\"\"\"Adds all API functions that begin with a given prefix to a target class.\u001b[39;00m\n\u001b[1;32m    173\u001b[0m \n\u001b[1;32m    174\u001b[0m \u001b[39m  Args:\u001b[39;00m\n\u001b[0;32m   (...)\u001b[0m\n\u001b[1;32m    181\u001b[0m \u001b[39m        added functions.\u001b[39;00m\n\u001b[1;32m    182\u001b[0m \u001b[39m  \"\"\"\u001b[39;00m\n\u001b[0;32m--> 183\u001b[0m   \u001b[39mcls\u001b[39;49m\u001b[39m.\u001b[39;49minitialize()\n\u001b[1;32m    184\u001b[0m   prepend \u001b[39m=\u001b[39m opt_prepend \u001b[39mor\u001b[39;00m \u001b[39m'\u001b[39m\u001b[39m'\u001b[39m\n\u001b[1;32m    185\u001b[0m   \u001b[39mfor\u001b[39;00m name, api_func \u001b[39min\u001b[39;00m \u001b[39mcls\u001b[39m\u001b[39m.\u001b[39m_api\u001b[39m.\u001b[39mitems():\n",
      "File \u001b[0;32m~/2023_01_24-river-regulation/.condaenv/lib/python3.9/site-packages/ee/apifunction.py:154\u001b[0m, in \u001b[0;36mApiFunction.initialize\u001b[0;34m(cls)\u001b[0m\n\u001b[1;32m    152\u001b[0m \u001b[39m\u001b[39m\u001b[39m\"\"\"Initializes the list of signatures from the Earth Engine front-end.\"\"\"\u001b[39;00m\n\u001b[1;32m    153\u001b[0m \u001b[39mif\u001b[39;00m \u001b[39mnot\u001b[39;00m \u001b[39mcls\u001b[39m\u001b[39m.\u001b[39m_api:\n\u001b[0;32m--> 154\u001b[0m   signatures \u001b[39m=\u001b[39m data\u001b[39m.\u001b[39;49mgetAlgorithms()\n\u001b[1;32m    155\u001b[0m   api \u001b[39m=\u001b[39m {}\n\u001b[1;32m    156\u001b[0m   \u001b[39mfor\u001b[39;00m name, sig \u001b[39min\u001b[39;00m signatures\u001b[39m.\u001b[39mitems():\n\u001b[1;32m    157\u001b[0m     \u001b[39m# Strip type parameters.\u001b[39;00m\n",
      "File \u001b[0;32m~/2023_01_24-river-regulation/.condaenv/lib/python3.9/site-packages/ee/data.py:1077\u001b[0m, in \u001b[0;36mgetAlgorithms\u001b[0;34m()\u001b[0m\n\u001b[1;32m   1061\u001b[0m \u001b[39m\u001b[39m\u001b[39m\"\"\"Get the list of algorithms.\u001b[39;00m\n\u001b[1;32m   1062\u001b[0m \n\u001b[1;32m   1063\u001b[0m \u001b[39mReturns:\u001b[39;00m\n\u001b[0;32m   (...)\u001b[0m\n\u001b[1;32m   1074\u001b[0m \u001b[39m              is not specified.\u001b[39;00m\n\u001b[1;32m   1075\u001b[0m \u001b[39m\"\"\"\u001b[39;00m\n\u001b[1;32m   1076\u001b[0m \u001b[39mtry\u001b[39;00m:\n\u001b[0;32m-> 1077\u001b[0m   call \u001b[39m=\u001b[39m _get_cloud_api_resource()\u001b[39m.\u001b[39mprojects()\u001b[39m.\u001b[39malgorithms()\u001b[39m.\u001b[39mlist(\n\u001b[1;32m   1078\u001b[0m       parent\u001b[39m=\u001b[39m_get_projects_path(), prettyPrint\u001b[39m=\u001b[39m\u001b[39mFalse\u001b[39;00m)\n\u001b[1;32m   1079\u001b[0m \u001b[39mexcept\u001b[39;00m \u001b[39mTypeError\u001b[39;00m:\n\u001b[1;32m   1080\u001b[0m   call \u001b[39m=\u001b[39m _get_cloud_api_resource()\u001b[39m.\u001b[39mprojects()\u001b[39m.\u001b[39malgorithms()\u001b[39m.\u001b[39mlist(\n\u001b[1;32m   1081\u001b[0m       project\u001b[39m=\u001b[39m_get_projects_path(), prettyPrint\u001b[39m=\u001b[39m\u001b[39mFalse\u001b[39;00m)\n",
      "File \u001b[0;32m~/2023_01_24-river-regulation/.condaenv/lib/python3.9/site-packages/ee/data.py:282\u001b[0m, in \u001b[0;36m_get_cloud_api_resource\u001b[0;34m()\u001b[0m\n\u001b[1;32m    280\u001b[0m \u001b[39mdef\u001b[39;00m \u001b[39m_get_cloud_api_resource\u001b[39m():\n\u001b[1;32m    281\u001b[0m   \u001b[39mif\u001b[39;00m _cloud_api_resource \u001b[39mis\u001b[39;00m \u001b[39mNone\u001b[39;00m:\n\u001b[0;32m--> 282\u001b[0m     \u001b[39mraise\u001b[39;00m ee_exception\u001b[39m.\u001b[39mEEException(\n\u001b[1;32m    283\u001b[0m         \u001b[39m'\u001b[39m\u001b[39mEarth Engine client library not initialized. Run `ee.Initialize()`\u001b[39m\u001b[39m'\u001b[39m)\n\u001b[1;32m    284\u001b[0m   \u001b[39mreturn\u001b[39;00m _cloud_api_resource\n",
      "\u001b[0;31mEEException\u001b[0m: Earth Engine client library not initialized. Run `ee.Initialize()`"
     ]
    }
   ],
   "source": [
    "config_path = '../params/rat_config.yml'\n",
    "run_rat.run_rat(config_path)"
   ]
  },
  {
   "cell_type": "code",
   "execution_count": null,
   "metadata": {},
   "outputs": [],
   "source": []
  }
 ],
 "metadata": {
  "kernelspec": {
   "display_name": "Python 3",
   "language": "python",
   "name": "python3"
  },
  "language_info": {
   "codemirror_mode": {
    "name": "ipython",
    "version": 3
   },
   "file_extension": ".py",
   "mimetype": "text/x-python",
   "name": "python",
   "nbconvert_exporter": "python",
   "pygments_lexer": "ipython3",
   "version": "3.9.13"
  },
  "orig_nbformat": 4,
  "vscode": {
   "interpreter": {
    "hash": "16808cc64ed4f9ec8ff9c489d3e428808d1b7645ba1705e6ce030031806cb338"
   }
  }
 },
 "nbformat": 4,
 "nbformat_minor": 2
}
