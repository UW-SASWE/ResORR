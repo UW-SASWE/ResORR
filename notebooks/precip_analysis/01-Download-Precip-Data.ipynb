{
 "cells": [
  {
   "attachments": {},
   "cell_type": "markdown",
   "metadata": {},
   "source": [
    "# Download IMERG-Final data"
   ]
  },
  {
   "cell_type": "code",
   "execution_count": null,
   "metadata": {
    "tags": []
   },
   "outputs": [],
   "source": [
    "import subprocess\n",
    "import dask\n",
    "from dask.distributed import Client, Semaphore\n",
    "import tempfile\n",
    "from pathlib import Path\n",
    "import configparser\n",
    "import pandas as pd\n",
    "import os\n",
    "import xarray as xr\n",
    "import rioxarray as rxr\n",
    "import requests"
   ]
  },
  {
   "cell_type": "code",
   "execution_count": null,
   "metadata": {
    "tags": []
   },
   "outputs": [],
   "source": [
    "client = Client(n_workers=os.cpu_count())\n",
    "client"
   ]
  },
  {
   "cell_type": "code",
   "execution_count": null,
   "metadata": {
    "tags": []
   },
   "outputs": [],
   "source": [
    "secrets = configparser.ConfigParser()\n",
    "secrets.read('../../secrets/secrets.ini')"
   ]
  },
  {
   "cell_type": "code",
   "execution_count": null,
   "metadata": {
    "tags": []
   },
   "outputs": [],
   "source": [
    "start_date = '2017-01-01'\n",
    "end_date = '2021-09-30'\n",
    "imerg_final_dir = Path(\"../../data-precip-analysis/imerg_final\")\n",
    "download_dir = imerg_final_dir / \"ss_method_zip\"\n",
    "output_dir = imerg_final_dir / \"ss_method\"\n",
    "\n",
    "download_dir.mkdir(exist_ok=True)\n",
    "output_dir.mkdir(exist_ok=True)\n",
    "\n",
    "sem = Semaphore(max_leases=8)\n",
    "\n",
    "def download_imerg_final(date, sem):\n",
    "    date = pd.to_datetime(date)\n",
    "    jan_1 = pd.to_datetime(f\"{date.year}-01-01\")\n",
    "    imerg_final_id = ((date-jan_1) * 30).days\n",
    "\n",
    "    if imerg_final_id <1000:\n",
    "        if imerg_final_id <30:\n",
    "            imerg_final_id = f'000{imerg_final_id}'\n",
    "        elif imerg_final_id <100:\n",
    "            imerg_final_id = f'00{imerg_final_id}'\n",
    "        else:\n",
    "            imerg_final_id = f'0{imerg_final_id}'\n",
    "\n",
    "    link = f\"https://arthurhouhttps.pps.eosdis.nasa.gov/gpmdata/{date.strftime('%Y')}/{date.strftime('%m')}/{date.strftime('%d')}/gis/3B-DAY-GIS.MS.MRG.3IMERG.{date.strftime('%Y%m%d')}-S000000-E235959.{imerg_final_id}.V06B.zip\"\n",
    "    fp_zip = (download_dir / date.strftime('%Y-%m-%d')).with_suffix('.zip')\n",
    "    fp_dst = (output_dir / date.strftime('%Y-%m-%d')).with_suffix('.tif')\n",
    "\n",
    "    cmd = [\n",
    "        \"wget\",\n",
    "        \"-O\",\n",
    "        fp_zip,\n",
    "        \"--user\",\n",
    "        f\"{secrets['imerg']['username']}\",\n",
    "        \"--password\",\n",
    "        f\"{secrets['imerg']['pwd']}\",\n",
    "        link,\n",
    "        \"--no-proxy\"\n",
    "    ]\n",
    "\n",
    "    result = None\n",
    "    if not fp_zip.exists():\n",
    "        with sem:\n",
    "            response = requests.head(link,auth=(secrets[\"imerg\"][\"username\"], secrets[\"imerg\"][\"pwd\"]))\n",
    "            if response.status_code == 200:\n",
    "                result = subprocess.run(cmd, capture_output=True)\n",
    "\n",
    "        with tempfile.TemporaryDirectory(dir=download_dir) as fp_temp:\n",
    "            # unzip\n",
    "            cmd = [\n",
    "                \"unzip\",\n",
    "                f'{fp_zip}',\n",
    "                \"-d\",\n",
    "                f'{fp_temp}'\n",
    "            ]\n",
    "            result2 = subprocess.run(cmd, capture_output=True)\n",
    "\n",
    "            # convert to cog\n",
    "            fp_temp_file = Path(fp_temp) / f\"3B-DAY-GIS.MS.MRG.3IMERG.{date.strftime('%Y%m%d')}-S000000-E235959.{imerg_final_id}.V06B.total.accum.tif\"\n",
    "            cmd = [\n",
    "                \"gdal_translate\",\n",
    "                \"-of\",\n",
    "                \"COG\",\n",
    "                f\"{fp_temp_file}\",\n",
    "                f\"{fp_temp_file}_cog.tif\"\n",
    "            ]\n",
    "            result3 = subprocess.run(cmd, capture_output=True)\n",
    "            print(result3)\n",
    "            # mv\n",
    "            cmd = [\n",
    "                \"mv\",\n",
    "                f'{fp_temp_file}_cog.tif',\n",
    "                f'{fp_dst}'\n",
    "            ]\n",
    "            result4 = subprocess.run(cmd, capture_output=True)\n",
    "                        \n",
    "            return result, result2.returncode, result3.returncode, result4.returncode\n",
    "    return None, None, None, None\n",
    "\n",
    "# parallel\n",
    "futures = []\n",
    "for date in pd.date_range(start_date, end_date):\n",
    "    future = dask.delayed(download_imerg_final)(date, sem)\n",
    "    futures.append(future)\n",
    "\n",
    "results = dask.compute(*futures)\n",
    "results"
   ]
  },
  {
   "cell_type": "code",
   "execution_count": null,
   "metadata": {},
   "outputs": [],
   "source": [
    "@dask.delayed\n",
    "def convert_to_da(fn, dst_dir, interp_lat_lon=None):\n",
    "    da = rxr.open_rasterio(fn, masked=True, chunks=dict(x=500, y=500)).squeeze().drop('band').astype('float64')\n",
    "    da.name = 'precip'\n",
    "    time = pd.to_datetime(fn.stem)\n",
    "\n",
    "    da = da.expand_dims('time')\n",
    "    da = da.rename({'x': 'lon', 'y': 'lat'})\n",
    "    da = da.assign_coords(\n",
    "        time = ('time', [time]),\n",
    "        lon = ('lon', da.lon.values.round(5)),\n",
    "        lat = ('lat', da.lat.values.round(5))\n",
    "    )\n",
    "\n",
    "    if interp_lat_lon is not None:\n",
    "        da = da.interp(lat=interp_lat_lon['lat'], lon=interp_lat_lon['lon'], method='nearest')\n",
    "\n",
    "    da.attrs['units'] = 'mm'\n",
    "    da.attrs['long_name'] = 'Precipitation'\n",
    "    da.attrs['standard_name'] = 'precipitation'\n",
    "    da.attrs['description'] = 'Accumulated precipitation estimated by IMERG Final Run'\n",
    "    \n",
    "    dst_fp = dst_dir / fn.name.replace('.tif', '.nc')\n",
    "\n",
    "    da.to_netcdf(dst_fp)"
   ]
  },
  {
   "cell_type": "code",
   "execution_count": null,
   "metadata": {},
   "outputs": [],
   "source": [
    "existing_ds_fn = Path(\"../../data-cumberland/tennessee/basins/cumberland/pre_processing/nc/combined_data.nc\")\n",
    "existing_ds = xr.open_dataset(existing_ds_fn)\n",
    "existing_ds"
   ]
  },
  {
   "cell_type": "code",
   "execution_count": null,
   "metadata": {
    "collapsed": true,
    "jupyter": {
     "outputs_hidden": true
    },
    "tags": []
   },
   "outputs": [],
   "source": [
    "tif_dir = Path(f\"../../data-precip-analysis/imerg_final/ss_method\")\n",
    "dst_dir = Path(f\"../../data-precip-analysis/imerg_final/ss_method_nc\")\n",
    "\n",
    "tasks = [convert_to_da(fp, dst_dir, interp_lat_lon=dict(lat=existing_ds.lat, lon=existing_ds.lon)) for fp in tif_dir.glob(\"*.tif\")]\n",
    "tasks"
   ]
  },
  {
   "cell_type": "code",
   "execution_count": null,
   "metadata": {
    "collapsed": true,
    "jupyter": {
     "outputs_hidden": true
    },
    "tags": []
   },
   "outputs": [],
   "source": [
    "dask.compute(*tasks)"
   ]
  }
 ],
 "metadata": {
  "kernelspec": {
   "display_name": "Python 3 (ipykernel)",
   "language": "python",
   "name": "python3"
  },
  "language_info": {
   "codemirror_mode": {
    "name": "ipython",
    "version": 3
   },
   "file_extension": ".py",
   "mimetype": "text/x-python",
   "name": "python",
   "nbconvert_exporter": "python",
   "pygments_lexer": "ipython3",
   "version": "3.10.10"
  },
  "vscode": {
   "interpreter": {
    "hash": "c234a56e7ab492b8bd356f83cb15541f7cb6d35a68291156c6da11e0a4887ef2"
   }
  }
 },
 "nbformat": 4,
 "nbformat_minor": 4
}
