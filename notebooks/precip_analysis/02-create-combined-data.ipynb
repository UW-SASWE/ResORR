{
 "cells": [
  {
   "cell_type": "code",
   "execution_count": null,
   "metadata": {
    "tags": []
   },
   "outputs": [],
   "source": [
    "import rasterio as rio\n",
    "import numpy as np\n",
    "import pandas as pd\n",
    "import os\n",
    "import xarray as xr\n",
    "import rioxarray as rxr\n",
    "from dask.distributed import Client, LocalCluster\n",
    "import dask\n",
    "import hvplot.xarray\n",
    "from pathlib import Path"
   ]
  },
  {
   "cell_type": "code",
   "execution_count": null,
   "metadata": {},
   "outputs": [],
   "source": [
    "CHUNKS_TLL = {'time': 10, 'lat': 50, 'lon': 50}\n",
    "CHUNKS_LL = {'lat': 50, 'lon': 50}"
   ]
  },
  {
   "cell_type": "code",
   "execution_count": null,
   "metadata": {
    "tags": []
   },
   "outputs": [],
   "source": [
    "cluster = LocalCluster(n_workers=64, threads_per_worker=1, processes=True, memory_limit='32GB')\n",
    "\n",
    "client = Client(cluster)\n",
    "client"
   ]
  },
  {
   "cell_type": "code",
   "execution_count": null,
   "metadata": {
    "tags": []
   },
   "outputs": [],
   "source": [
    "# combine IMERG-Final\n",
    "from pathlib import Path\n",
    "\n",
    "imerg_dir = Path(f\"../../data-precip-analysis/imerg_final/ss_method_nc\")\n",
    "imerg_fns = imerg_dir.glob(\"*.nc\")\n",
    "\n",
    "imerg_ds = xr.open_mfdataset(imerg_fns, chunks=CHUNKS_TLL, combine='by_coords')\n",
    "imerg_ds"
   ]
  },
  {
   "cell_type": "code",
   "execution_count": null,
   "metadata": {
    "tags": []
   },
   "outputs": [],
   "source": [
    "imerg_ds['precip'].sel(time=slice('2017-01-01', '2017-12-31')).hvplot(groupby='time')"
   ]
  },
  {
   "cell_type": "code",
   "execution_count": null,
   "metadata": {
    "tags": []
   },
   "outputs": [],
   "source": [
    "precip = imerg_ds['precip'].transpose('time', 'lat', 'lon').chunk(CHUNKS_TLL)\n",
    "if 'spatial_ref' in precip.coords:\n",
    "    precip = precip.drop('spatial_ref')\n",
    "precip"
   ]
  },
  {
   "cell_type": "code",
   "execution_count": null,
   "metadata": {},
   "outputs": [],
   "source": [
    "existing_ds_fn = Path(\"../../data-cumberland/tennessee/basins/cumberland/pre_processing/nc/combined_data.nc\")\n",
    "existing_ds = xr.open_dataset(existing_ds_fn)\n",
    "existing_ds"
   ]
  },
  {
   "cell_type": "code",
   "execution_count": null,
   "metadata": {},
   "outputs": [],
   "source": [
    "new_ds = existing_ds.copy(deep=True)\n",
    "\n",
    "new_ds['precip'] = precip\n",
    "new_ds"
   ]
  },
  {
   "cell_type": "code",
   "execution_count": null,
   "metadata": {},
   "outputs": [],
   "source": [
    "precip.sel(time='2017-01-01').hvplot()"
   ]
  },
  {
   "cell_type": "code",
   "execution_count": null,
   "metadata": {},
   "outputs": [],
   "source": [
    "new_ds['precip'].sel(time='2017-01-01').hvplot()"
   ]
  },
  {
   "cell_type": "code",
   "execution_count": null,
   "metadata": {},
   "outputs": [],
   "source": [
    "dst_fp = Path('../../data-precip-analysis/tennessee/basins/cumberland/pre_processing/nc/combined_data.nc')\n",
    "new_ds.to_netcdf(dst_fp)"
   ]
  },
  {
   "attachments": {},
   "cell_type": "markdown",
   "metadata": {},
   "source": [
    "# Read combined data"
   ]
  },
  {
   "cell_type": "code",
   "execution_count": null,
   "metadata": {},
   "outputs": [],
   "source": [
    "res_ds = xr.open_dataset(\"/water2/pdas47/2023_01_24-river-regulation/data-precip-analysis/tennessee/basins/cumberland/pre_processing/nc/combined_data.nc\")\n",
    "res_ds"
   ]
  },
  {
   "cell_type": "code",
   "execution_count": null,
   "metadata": {},
   "outputs": [],
   "source": [
    "from matplotlib import pyplot as plt\n",
    "\n",
    "f, ax = plt.subplots(figsize=(10, 4))\n",
    "\n",
    "res_ds['precip'].sel(time='2017-01-02', method='nearest').plot(x='lon', y='lat', ax=ax)\n",
    "ax.set_aspect('equal')"
   ]
  },
  {
   "cell_type": "code",
   "execution_count": null,
   "metadata": {},
   "outputs": [],
   "source": [
    "from rat.run_rat import run_rat\n",
    "from ruamel.yaml import YAML\n",
    "\n",
    "config_fn = Path(\"../../params/rat-precip-analysis.yaml\")\n",
    "\n",
    "config_yaml = YAML()\n",
    "config_yaml = config_yaml.load(config_fn.read_text())\n",
    "\n",
    "start_date = config_yaml['BASIN']['start']\n",
    "end_date = config_yaml['BASIN']['end']\n",
    "# run_rat(config_fn)"
   ]
  },
  {
   "cell_type": "code",
   "execution_count": null,
   "metadata": {},
   "outputs": [],
   "source": [
    "import datetime\n",
    "\n",
    "def generate_state_and_inputs(forcings_startdate, forcings_enddate, combined_datapath, out_dir):\n",
    "    combined_datapath = Path(combined_datapath)\n",
    "    assert combined_datapath.exists()\n",
    "    out_dir = Path(out_dir)\n",
    "    out_dir.mkdir(exist_ok=True, parents=True)\n",
    "\n",
    "    # Generate state. Assuming `nc_fmt_data` contains all the data, presumably containing enough data\n",
    "    # to create state file (upto 90 days prior data from forcings_startdate)\n",
    "    combined_data = xr.open_dataset(combined_datapath)\n",
    "\n",
    "    state_startdate = forcings_startdate - datetime.timedelta(days=90)\n",
    "    state_enddate = forcings_startdate - datetime.timedelta(days=1)\n",
    "\n",
    "    state_ds = combined_data.sel(time=slice(state_startdate, state_enddate))\n",
    "    state_outpath = out_dir / \"state.nc\"\n",
    "    print(f\"Saving state at: {state_outpath}\")\n",
    "    state_ds.drop('spatial_ref').to_netcdf(state_outpath)\n",
    "\n",
    "    # Generate the metsim input\n",
    "    forcings_ds = combined_data.sel(time=slice(forcings_startdate, forcings_enddate))\n",
    "    forcings_outpath = out_dir / \"metsim_input.nc\"\n",
    "    print(f\"Saving forcings: {forcings_outpath}\")\n",
    "    forcings_ds.drop('spatial_ref').to_netcdf(forcings_outpath)\n",
    "\n",
    "    return state_outpath, forcings_outpath"
   ]
  },
  {
   "cell_type": "code",
   "execution_count": null,
   "metadata": {},
   "outputs": [],
   "source": [
    "generate_state_and_inputs(\n",
    "    start_date, \n",
    "    end_date, \n",
    "    \"/water2/pdas47/2023_01_24-river-regulation/data-precip-analysis/tennessee/basins/cumberland/pre_processing/nc/combined_data.nc\", \n",
    "    \"/water2/pdas47/2023_01_24-river-regulation/data-precip-analysis/tennessee/basins/cumberland/metsim/metsim_inputs\"\n",
    ")"
   ]
  },
  {
   "attachments": {},
   "cell_type": "markdown",
   "metadata": {},
   "source": [
    "Run RAT from step 5 to generate inflow."
   ]
  }
 ],
 "metadata": {
  "kernelspec": {
   "display_name": "Python 3 (ipykernel)",
   "language": "python",
   "name": "python3"
  },
  "language_info": {
   "codemirror_mode": {
    "name": "ipython",
    "version": 3
   },
   "file_extension": ".py",
   "mimetype": "text/x-python",
   "name": "python",
   "nbconvert_exporter": "python",
   "pygments_lexer": "ipython3",
   "version": "3.10.8"
  },
  "vscode": {
   "interpreter": {
    "hash": "c234a56e7ab492b8bd356f83cb15541f7cb6d35a68291156c6da11e0a4887ef2"
   }
  }
 },
 "nbformat": 4,
 "nbformat_minor": 4
}
