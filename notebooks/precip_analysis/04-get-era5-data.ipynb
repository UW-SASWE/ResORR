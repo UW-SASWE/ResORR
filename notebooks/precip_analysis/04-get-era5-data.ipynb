{
 "cells": [
  {
   "cell_type": "code",
   "execution_count": null,
   "metadata": {},
   "outputs": [],
   "source": [
    "import os\n",
    "import requests\n",
    "import boto3\n",
    "import botocore\n",
    "import numpy as np\n",
    "import dask\n",
    "from dask.distributed import Client, Semaphore\n",
    "import pandas as pd\n",
    "from pathlib import Path"
   ]
  },
  {
   "cell_type": "code",
   "execution_count": null,
   "metadata": {},
   "outputs": [],
   "source": [
    "dask_client = Client(n_workers=64, threads_per_worker=1, memory_limit='20GB')\n",
    "dask_client"
   ]
  },
  {
   "attachments": {},
   "cell_type": "markdown",
   "metadata": {},
   "source": [
    "Set up S3 Access using Boto"
   ]
  },
  {
   "cell_type": "code",
   "execution_count": null,
   "metadata": {},
   "outputs": [],
   "source": [
    "era5_bucket = 'era5-pds'\n",
    "client = boto3.client('s3', config=botocore.client.Config(signature_version=botocore.UNSIGNED))"
   ]
  },
  {
   "cell_type": "code",
   "execution_count": null,
   "metadata": {},
   "outputs": [],
   "source": [
    "paginator = client.get_paginator('list_objects')\n",
    "result = paginator.paginate(Bucket=era5_bucket, Delimiter='/')\n",
    "for prefix in result.search('CommonPrefixes'):\n",
    "    print(prefix.get('Prefix'))\n"
   ]
  },
  {
   "cell_type": "code",
   "execution_count": null,
   "metadata": {},
   "outputs": [],
   "source": [
    "@dask.delayed(nout=3)\n",
    "def download_era5_file(bucket, aws_obj, dst_fp, sem):\n",
    "    \"\"\"Download ERA5 file from S3 bucket for a given date\n",
    "\n",
    "    Args:\n",
    "        date (DateTime): Date to download data for\n",
    "        bucket (str): S3 bucket name to download from\n",
    "        dst_dir (Path | str): Directory to save file to\n",
    "        sem (Semaphore): Semaphore to limit concurrent downloads\n",
    "\n",
    "    Returns:\n",
    "        int: Download status (0 = success, 1 = failure)\n",
    "    \"\"\"\n",
    "    with sem:\n",
    "        client = boto3.client('s3', config=botocore.client.Config(signature_version=botocore.UNSIGNED))\n",
    "        try:\n",
    "            with open(dst_fp, 'wb') as f:\n",
    "                client.download_fileobj(bucket, aws_obj, f)\n",
    "            download_status = 0\n",
    "        except botocore.exceptions.ClientError as e:\n",
    "            download_status = 1\n",
    "    \n",
    "    return download_status\n",
    "\n",
    "def retrieve_era5_precip(start_date, end_date, bucket, dst_dir, max_concurrent=4):\n",
    "    \"\"\"\n",
    "    Retrieve ERA5 data from S3 bucket for a given date range\n",
    "    \"\"\"\n",
    "    dst_dir = Path(dst_dir)\n",
    "    date_range = pd.date_range(start_date, end_date, freq='MS')\n",
    "    statuses = []\n",
    "    aws_objs = []\n",
    "    filenames = []\n",
    "    \n",
    "    # Limit concurrent downloads using a semaphore\n",
    "    sem = Semaphore(max_concurrent, name='aws-era5')\n",
    "    dask.config.set('distributed.scheduler.locks.lease-timeout', '1800s')\n",
    "\n",
    "    for date in date_range:\n",
    "        prefix = f\"{date.strftime('%Y/%m/')}data/\"\n",
    "        dst_fp = dst_dir / (date.strftime('%Y%m%d') + '.nc')\n",
    "        dst_fp.parent.mkdir(parents=True, exist_ok=True)\n",
    "        aws_obj = prefix + 'precipitation_amount_1hour_Accumulation.nc'\n",
    "        \n",
    "        status = download_era5_file(bucket, aws_obj, dst_fp, sem)\n",
    "\n",
    "        statuses.append(status)\n",
    "        aws_objs.append(aws_obj)\n",
    "        filenames.append(dst_fp)\n",
    "\n",
    "    statuses = dask.compute(*statuses)\n",
    "    \n",
    "    return pd.DataFrame({'date': date_range, 'download_status': statuses, 'aws_obj': aws_objs, 'filename': filenames})"
   ]
  },
  {
   "cell_type": "code",
   "execution_count": null,
   "metadata": {},
   "outputs": [],
   "source": [
    "start_date = '2010-01-01'\n",
    "end_date = '2023-04-01'\n",
    "\n",
    "era5_data_retrieval = retrieve_era5_precip(start_date, end_date, era5_bucket, Path(\"../../data-precip-analysis/era5\"), max_concurrent=12)"
   ]
  },
  {
   "cell_type": "code",
   "execution_count": null,
   "metadata": {},
   "outputs": [],
   "source": [
    "era5_data_retrieval"
   ]
  }
 ],
 "metadata": {
  "kernelspec": {
   "display_name": "Python 3",
   "language": "python",
   "name": "python3"
  },
  "language_info": {
   "codemirror_mode": {
    "name": "ipython",
    "version": 3
   },
   "file_extension": ".py",
   "mimetype": "text/x-python",
   "name": "python",
   "nbconvert_exporter": "python",
   "pygments_lexer": "ipython3",
   "version": "3.10.10"
  },
  "orig_nbformat": 4
 },
 "nbformat": 4,
 "nbformat_minor": 2
}
