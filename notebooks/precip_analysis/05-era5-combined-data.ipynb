{
 "cells": [
  {
   "cell_type": "code",
   "execution_count": null,
   "metadata": {},
   "outputs": [],
   "source": [
    "import xarray as xr\n",
    "import numpy as np\n",
    "import hvplot.xarray\n",
    "import hvplot as hv\n",
    "from pathlib import Path\n",
    "\n",
    "hv.extension('bokeh')"
   ]
  },
  {
   "cell_type": "code",
   "execution_count": null,
   "metadata": {},
   "outputs": [],
   "source": [
    "import dask\n",
    "from dask.distributed import Client\n",
    "import os\n",
    "\n",
    "client = Client(n_workers=20, threads_per_worker=1, memory_limit='12GB')\n",
    "client"
   ]
  },
  {
   "attachments": {},
   "cell_type": "markdown",
   "metadata": {},
   "source": [
    "# Pre-processing\n",
    "\n",
    "ERA-5 Total precipitation data comes in hourly time-step. This section creates a daily time-step dataset by summing the hourly values and saves them for each year."
   ]
  },
  {
   "cell_type": "code",
   "execution_count": null,
   "metadata": {},
   "outputs": [],
   "source": [
    "era5_hourly_dir = Path('../../data-precip-analysis/era5/raw')\n",
    "era5_hourly_fs = era5_hourly_dir.glob(\"*.nc\")\n",
    "\n",
    "era5_hourly_ds = xr.open_mfdataset(era5_hourly_fs, combine='by_coords')\n",
    "# era5_hourly_ds = era5_hourly_ds.chunk({'time1': 720, 'lat': 500, 'lon': 500})\n",
    "era5_hourly_ds"
   ]
  },
  {
   "cell_type": "code",
   "execution_count": null,
   "metadata": {},
   "outputs": [],
   "source": [
    "subset = False\n",
    "start_date = '2019-01-01'\n",
    "end_date = '2023-04-30'\n",
    "\n",
    "if subset:\n",
    "    era5_hourly_ds = era5_hourly_ds.sel(time1=slice(start_date, end_date))"
   ]
  },
  {
   "cell_type": "code",
   "execution_count": null,
   "metadata": {},
   "outputs": [],
   "source": [
    "era5_daily = era5_hourly_ds['precipitation_amount_1hour_Accumulation'].resample(time1='1D').sum()\n",
    "\n",
    "era5_daily = era5_daily.rename({\"time1\": \"time\"})\n",
    "\n",
    "# udpate attributes\n",
    "era5_daily.attrs['units'] = 'm/day'\n",
    "era5_daily.attrs['long_name'] = 'Total daily accumulated precipitation'\n",
    "\n",
    "del era5_daily.attrs['nameECMWF']\n",
    "del era5_daily.attrs['shortNameECMWF']\n",
    "del era5_daily.attrs['nameCDM']\n",
    "del era5_daily.attrs['product_type']\n",
    "\n",
    "era5_daily = era5_daily.to_dataset(name='precip')\n",
    "era5_daily = era5_daily.chunk({\"time\": \"auto\", \"lat\": \"auto\", \"lon\": \"auto\"})\n",
    "era5_daily"
   ]
  },
  {
   "cell_type": "code",
   "execution_count": null,
   "metadata": {},
   "outputs": [],
   "source": [
    "era5_daily_dir = Path(\"../../data-precip-analysis/era5/daily_precip\")\n",
    "era5_daily_dir.mkdir(exist_ok=True, parents=True)\n",
    "\n",
    "years, datasets = zip(*era5_daily.groupby(\"time.year\"))\n",
    "paths = [era5_daily_dir / f\"{y}.nc\" for y in years]"
   ]
  },
  {
   "cell_type": "code",
   "execution_count": null,
   "metadata": {},
   "outputs": [],
   "source": [
    "datasets[0]"
   ]
  },
  {
   "cell_type": "code",
   "execution_count": null,
   "metadata": {},
   "outputs": [],
   "source": [
    "xr.save_mfdataset(datasets, paths, encoding={'precip': {'zlib': True, 'complevel': 6}})"
   ]
  },
  {
   "attachments": {},
   "cell_type": "markdown",
   "metadata": {},
   "source": [
    "# Creating combined nc"
   ]
  },
  {
   "cell_type": "code",
   "execution_count": null,
   "metadata": {},
   "outputs": [],
   "source": [
    "CHUNKS_TLL = {'time': 10, 'lat': 500, 'lon': 500}\n",
    "CHUNKS_LL = {'lat': 50, 'lon': 50}"
   ]
  },
  {
   "cell_type": "code",
   "execution_count": null,
   "metadata": {},
   "outputs": [],
   "source": [
    "era5_dir = Path(f\"../../data-era5/era5/daily_precip\")\n",
    "era5_fns = era5_dir.glob(\"*.nc\")\n",
    "\n",
    "era5_ds = xr.open_mfdataset(era5_fns, chunks=CHUNKS_TLL, combine='by_coords')\n",
    "era5_ds"
   ]
  },
  {
   "cell_type": "code",
   "execution_count": null,
   "metadata": {},
   "outputs": [],
   "source": [
    "precip = era5_ds['precip'].transpose('time', 'lat', 'lon').chunk(CHUNKS_TLL) * 1000 # convert m/day to mm/day\n",
    "\n",
    "precip.coords['lon'] = (precip.coords['lon'] + 180) % 360 - 180\n",
    "precip = precip.astype(np.float64)\n",
    "precip.attrs['units'] = 'mm/day'\n",
    "precip.attrs['standard_name'] = 'precipitation_amount'\n",
    "precip.attrs['long_name'] = 'Total daily accumulated precipitation'\n",
    "\n",
    "if 'spatial_ref' in precip.coords:\n",
    "    precip = precip.drop('spatial_ref')\n",
    "precip"
   ]
  },
  {
   "cell_type": "code",
   "execution_count": null,
   "metadata": {},
   "outputs": [],
   "source": [
    "precip.sel(time=slice('2017-01-01', '2017-12-31')).hvplot(groupby='time', x='lon', y='lat')"
   ]
  },
  {
   "cell_type": "code",
   "execution_count": null,
   "metadata": {},
   "outputs": [],
   "source": [
    "existing_ds_fn = Path(\"../../data-cumberland/tennessee/basins/cumberland/pre_processing/nc/combined_data.nc\")\n",
    "existing_ds = xr.open_dataset(existing_ds_fn)\n",
    "existing_ds"
   ]
  },
  {
   "cell_type": "code",
   "execution_count": null,
   "metadata": {},
   "outputs": [],
   "source": [
    "precip = precip.interp(lat=existing_ds['lat'], lon=existing_ds['lon'], method='nearest')\n",
    "precip = precip.sel(time=slice(existing_ds['time'].min().values, existing_ds['time'].max().values))\n",
    "precip"
   ]
  },
  {
   "cell_type": "code",
   "execution_count": null,
   "metadata": {},
   "outputs": [],
   "source": [
    "existing_ds['precip']"
   ]
  },
  {
   "cell_type": "code",
   "execution_count": null,
   "metadata": {},
   "outputs": [],
   "source": [
    "new_ds = existing_ds.copy(deep=True)\n",
    "\n",
    "new_ds['precip'] = precip\n",
    "\n",
    "new_ds"
   ]
  },
  {
   "cell_type": "code",
   "execution_count": null,
   "metadata": {},
   "outputs": [],
   "source": [
    "existing_ds['precip'].sel(time='2017-01-01').hvplot()"
   ]
  },
  {
   "cell_type": "code",
   "execution_count": null,
   "metadata": {},
   "outputs": [],
   "source": [
    "new_ds['precip'].sel(time='2017-01-01').hvplot()"
   ]
  },
  {
   "cell_type": "code",
   "execution_count": null,
   "metadata": {},
   "outputs": [],
   "source": [
    "dst_fp = Path('../../data-era5/tennessee/basins/cumberland/pre_processing/nc/combined_data.nc')\n",
    "dst_fp.parent.mkdir(exist_ok=True, parents=True)\n",
    "new_ds.to_netcdf(dst_fp)"
   ]
  }
 ],
 "metadata": {
  "kernelspec": {
   "display_name": "Python 3",
   "language": "python",
   "name": "python3"
  },
  "language_info": {
   "codemirror_mode": {
    "name": "ipython",
    "version": 3
   },
   "file_extension": ".py",
   "mimetype": "text/x-python",
   "name": "python",
   "nbconvert_exporter": "python",
   "pygments_lexer": "ipython3",
   "version": "3.10.10"
  },
  "orig_nbformat": 4
 },
 "nbformat": 4,
 "nbformat_minor": 2
}
